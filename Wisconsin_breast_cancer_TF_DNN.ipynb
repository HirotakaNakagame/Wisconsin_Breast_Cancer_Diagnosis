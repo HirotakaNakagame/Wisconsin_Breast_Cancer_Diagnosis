{
 "cells": [
  {
   "cell_type": "code",
   "execution_count": 2,
   "metadata": {
    "colab": {
     "autoexec": {
      "startup": false,
      "wait_interval": 0
     },
     "base_uri": "https://localhost:8080/",
     "height": 221,
     "output_extras": [
      {
       "item_id": 2
      }
     ]
    },
    "colab_type": "code",
    "executionInfo": {
     "elapsed": 4498,
     "status": "ok",
     "timestamp": 1519835166666,
     "user": {
      "displayName": "Hirotaka Nakagame",
      "photoUrl": "https://lh3.googleusercontent.com/a/default-user=s128",
      "userId": "112831220811010598553"
     },
     "user_tz": 360
    },
    "id": "UZLu2pQvZL32",
    "outputId": "45c1ef43-81e9-4f0d-bab3-524a8ef2cbee"
   },
   "outputs": [
    {
     "name": "stdout",
     "output_type": "stream",
     "text": [
      "Requirement already satisfied: gspread-dataframe in /usr/local/lib/python2.7/dist-packages\r\n",
      "Requirement already satisfied: pandas>=0.14.0 in /usr/local/lib/python2.7/dist-packages (from gspread-dataframe)\r\n",
      "Requirement already satisfied: gspread in /usr/local/lib/python2.7/dist-packages (from gspread-dataframe)\r\n",
      "Requirement already satisfied: pytz>=2011k in /usr/local/lib/python2.7/dist-packages (from pandas>=0.14.0->gspread-dataframe)\r\n",
      "Requirement already satisfied: python-dateutil in /usr/local/lib/python2.7/dist-packages (from pandas>=0.14.0->gspread-dataframe)\r\n",
      "Requirement already satisfied: numpy>=1.9.0 in /usr/local/lib/python2.7/dist-packages (from pandas>=0.14.0->gspread-dataframe)\r\n",
      "Requirement already satisfied: requests>=2.2.1 in /usr/local/lib/python2.7/dist-packages (from gspread->gspread-dataframe)\r\n",
      "Requirement already satisfied: six>=1.5 in /usr/local/lib/python2.7/dist-packages (from python-dateutil->pandas>=0.14.0->gspread-dataframe)\r\n",
      "Requirement already satisfied: idna<2.7,>=2.5 in /usr/local/lib/python2.7/dist-packages (from requests>=2.2.1->gspread->gspread-dataframe)\n",
      "Requirement already satisfied: urllib3<1.23,>=1.21.1 in /usr/local/lib/python2.7/dist-packages (from requests>=2.2.1->gspread->gspread-dataframe)\n",
      "Requirement already satisfied: certifi>=2017.4.17 in /usr/local/lib/python2.7/dist-packages (from requests>=2.2.1->gspread->gspread-dataframe)\n",
      "Requirement already satisfied: chardet<3.1.0,>=3.0.2 in /usr/local/lib/python2.7/dist-packages (from requests>=2.2.1->gspread->gspread-dataframe)\n"
     ]
    }
   ],
   "source": [
    "!pip install --upgrade -q gspread\n",
    "!pip install gspread-dataframe\n",
    "\n",
    "import gspread\n",
    "from gspread_dataframe import get_as_dataframe, set_with_dataframe\n",
    "\n",
    "from google.colab import auth\n",
    "auth.authenticate_user()\n",
    "from oauth2client.client import GoogleCredentials\n",
    "gc = gspread.authorize(GoogleCredentials.get_application_default())\n",
    "\n",
    "\n",
    "import tensorflow as tf\n",
    "import pandas as pd\n",
    "import numpy as np\n",
    "from sklearn.model_selection import train_test_split"
   ]
  },
  {
   "cell_type": "code",
   "execution_count": 0,
   "metadata": {
    "colab": {
     "autoexec": {
      "startup": false,
      "wait_interval": 0
     }
    },
    "colab_type": "code",
    "id": "M_vxnY1bZQ5s"
   },
   "outputs": [],
   "source": [
    "sheet1 = gc.open_by_url('my key goes here')"
   ]
  },
  {
   "cell_type": "code",
   "execution_count": 0,
   "metadata": {
    "colab": {
     "autoexec": {
      "startup": false,
      "wait_interval": 0
     }
    },
    "colab_type": "code",
    "id": "eBM_t6fpaXWt"
   },
   "outputs": [],
   "source": [
    "ws = sheet1.worksheet('data')"
   ]
  },
  {
   "cell_type": "code",
   "execution_count": 0,
   "metadata": {
    "colab": {
     "autoexec": {
      "startup": false,
      "wait_interval": 0
     }
    },
    "colab_type": "code",
    "id": "WSiJ_BDhaZYn"
   },
   "outputs": [],
   "source": [
    "df = get_as_dataframe(ws)"
   ]
  },
  {
   "cell_type": "code",
   "execution_count": 0,
   "metadata": {
    "colab": {
     "autoexec": {
      "startup": false,
      "wait_interval": 0
     }
    },
    "colab_type": "code",
    "id": "Rp3fSC9Waa74"
   },
   "outputs": [],
   "source": [
    "col_names = ['ID', 'class']\n",
    "features = []\n",
    "for j in range(1, 31):\n",
    "    col_names.append('feat' + str(j))\n",
    "    features.append('feat' + str(j))"
   ]
  },
  {
   "cell_type": "code",
   "execution_count": 0,
   "metadata": {
    "colab": {
     "autoexec": {
      "startup": false,
      "wait_interval": 0
     }
    },
    "colab_type": "code",
    "id": "hWwYl_eOac96"
   },
   "outputs": [],
   "source": [
    "df.columns = col_names"
   ]
  },
  {
   "cell_type": "code",
   "execution_count": 0,
   "metadata": {
    "colab": {
     "autoexec": {
      "startup": false,
      "wait_interval": 0
     }
    },
    "colab_type": "code",
    "id": "raXRWgqKaejn"
   },
   "outputs": [],
   "source": [
    "df.drop('ID', axis = 1, inplace = True)"
   ]
  },
  {
   "cell_type": "code",
   "execution_count": 0,
   "metadata": {
    "colab": {
     "autoexec": {
      "startup": false,
      "wait_interval": 0
     }
    },
    "colab_type": "code",
    "id": "Z4zyiTnRahEr"
   },
   "outputs": [],
   "source": [
    "df[features] = df[features].apply(lambda x:(x - x.min()) / (x.max() - x.min()))"
   ]
  },
  {
   "cell_type": "code",
   "execution_count": 0,
   "metadata": {
    "colab": {
     "autoexec": {
      "startup": false,
      "wait_interval": 0
     }
    },
    "colab_type": "code",
    "id": "4wN_Q95faiPx"
   },
   "outputs": [],
   "source": [
    "df['class'] = df['class'].replace('M', 0)\n",
    "df['class'] = df['class'].replace('B', 1)"
   ]
  },
  {
   "cell_type": "code",
   "execution_count": 0,
   "metadata": {
    "colab": {
     "autoexec": {
      "startup": false,
      "wait_interval": 0
     }
    },
    "colab_type": "code",
    "id": "2rVWLpaaal6u"
   },
   "outputs": [],
   "source": [
    "feat1 = tf.feature_column.numeric_column('feat1')\n",
    "feat2 = tf.feature_column.numeric_column('feat2')\n",
    "feat3 = tf.feature_column.numeric_column('feat3')\n",
    "feat4 = tf.feature_column.numeric_column('feat4')\n",
    "feat5 = tf.feature_column.numeric_column('feat5')\n",
    "feat6 = tf.feature_column.numeric_column('feat6')\n",
    "feat7 = tf.feature_column.numeric_column('feat7')\n",
    "feat8 = tf.feature_column.numeric_column('feat8')\n",
    "feat9 = tf.feature_column.numeric_column('feat9')\n",
    "feat10 = tf.feature_column.numeric_column('feat10')\n",
    "feat11 = tf.feature_column.numeric_column('feat11')\n",
    "feat12 = tf.feature_column.numeric_column('feat12')\n",
    "feat13 = tf.feature_column.numeric_column('feat13')\n",
    "feat14 = tf.feature_column.numeric_column('feat14')\n",
    "feat15 = tf.feature_column.numeric_column('feat15')\n",
    "feat16 = tf.feature_column.numeric_column('feat16')\n",
    "feat17 = tf.feature_column.numeric_column('feat17')\n",
    "feat18 = tf.feature_column.numeric_column('feat18')\n",
    "feat19 = tf.feature_column.numeric_column('feat19')\n",
    "feat20 = tf.feature_column.numeric_column('feat20')\n",
    "feat21 = tf.feature_column.numeric_column('feat21')\n",
    "feat22 = tf.feature_column.numeric_column('feat22')\n",
    "feat23 = tf.feature_column.numeric_column('feat23')\n",
    "feat24 = tf.feature_column.numeric_column('feat24')\n",
    "feat25 = tf.feature_column.numeric_column('feat25')\n",
    "feat26 = tf.feature_column.numeric_column('feat26')\n",
    "feat27 = tf.feature_column.numeric_column('feat27')\n",
    "feat28 = tf.feature_column.numeric_column('feat28')\n",
    "feat29 = tf.feature_column.numeric_column('feat29')\n",
    "feat30 = tf.feature_column.numeric_column('feat30')"
   ]
  },
  {
   "cell_type": "code",
   "execution_count": 0,
   "metadata": {
    "colab": {
     "autoexec": {
      "startup": false,
      "wait_interval": 0
     }
    },
    "colab_type": "code",
    "id": "qOuvXMQzasCU"
   },
   "outputs": [],
   "source": [
    "#assingned_group = tf.feature_column.categorical_column_with_hash_bucket('Group', hash_bucket_size = 15)"
   ]
  },
  {
   "cell_type": "code",
   "execution_count": 0,
   "metadata": {
    "colab": {
     "autoexec": {
      "startup": false,
      "wait_interval": 0
     }
    },
    "colab_type": "code",
    "id": "Cv1e4Etdo3-Y"
   },
   "outputs": [],
   "source": [
    "feat3_buckets = tf.feature_column.bucketized_column(feat3, boundaries = [50,70,90,110,130,150,170])\n",
    "#feat13_buckets = tf.feature_column.bucketized_column(feat3, boundaries = [])\n",
    "feat23_buckets = tf.feature_column.bucketized_column(feat23, boundaries = [50,70,90,110,130,150,170, 190])"
   ]
  },
  {
   "cell_type": "code",
   "execution_count": 0,
   "metadata": {
    "colab": {
     "autoexec": {
      "startup": false,
      "wait_interval": 0
     }
    },
    "colab_type": "code",
    "id": "ZAkMhqCOoiB1"
   },
   "outputs": [],
   "source": [
    "\n",
    "feat_cols = [feat1, feat2, feat3_buckets, feat4, feat5, feat6, feat7, feat8, feat9, feat10, \n",
    "             feat11, feat12, feat13, feat14, feat15, feat16, feat17, feat18, feat19, feat20, \n",
    "             feat21, feat22, feat23_buckets, feat24, feat25, feat26, feat27, feat28, feat29, feat30]"
   ]
  },
  {
   "cell_type": "code",
   "execution_count": 0,
   "metadata": {
    "colab": {
     "autoexec": {
      "startup": false,
      "wait_interval": 0
     }
    },
    "colab_type": "code",
    "id": "XnEAVOfFavli"
   },
   "outputs": [],
   "source": [
    "X_data = df.drop('class', axis = 1)"
   ]
  },
  {
   "cell_type": "code",
   "execution_count": 0,
   "metadata": {
    "colab": {
     "autoexec": {
      "startup": false,
      "wait_interval": 0
     }
    },
    "colab_type": "code",
    "id": "lqJmrmU9bA1E"
   },
   "outputs": [],
   "source": [
    "labels = df['class']"
   ]
  },
  {
   "cell_type": "code",
   "execution_count": 0,
   "metadata": {
    "colab": {
     "autoexec": {
      "startup": false,
      "wait_interval": 0
     }
    },
    "colab_type": "code",
    "id": "T-loVE1qbCYG"
   },
   "outputs": [],
   "source": [
    "X_train, X_test, y_train, y_test = train_test_split(X_data, labels, test_size = 0.33)"
   ]
  },
  {
   "cell_type": "code",
   "execution_count": 115,
   "metadata": {
    "colab": {
     "autoexec": {
      "startup": false,
      "wait_interval": 0
     },
     "base_uri": "https://localhost:8080/",
     "height": 870,
     "output_extras": [
      {
       "item_id": 31
      },
      {
       "item_id": 32
      }
     ]
    },
    "colab_type": "code",
    "executionInfo": {
     "elapsed": 10966,
     "status": "ok",
     "timestamp": 1519842784151,
     "user": {
      "displayName": "Hirotaka Nakagame",
      "photoUrl": "https://lh3.googleusercontent.com/a/default-user=s128",
      "userId": "112831220811010598553"
     },
     "user_tz": 360
    },
    "id": "QwFlhhCnccO-",
    "outputId": "3240b44b-8827-4c58-85bd-5db6909b8737"
   },
   "outputs": [
    {
     "name": "stdout",
     "output_type": "stream",
     "text": [
      "INFO:tensorflow:Using default config.\n",
      "WARNING:tensorflow:Using temporary folder as model directory: /tmp/tmp5OxhuX\n",
      "INFO:tensorflow:Using config: {'_save_checkpoints_secs': 600, '_session_config': None, '_keep_checkpoint_max': 5, '_task_type': 'worker', '_global_id_in_cluster': 0, '_is_chief': True, '_cluster_spec': <tensorflow.python.training.server_lib.ClusterSpec object at 0x7f12762c2d10>, '_evaluation_master': '', '_save_checkpoints_steps': None, '_keep_checkpoint_every_n_hours': 10000, '_service': None, '_num_ps_replicas': 0, '_tf_random_seed': None, '_master': '', '_num_worker_replicas': 1, '_task_id': 0, '_log_step_count_steps': 100, '_model_dir': '/tmp/tmp5OxhuX', '_save_summary_steps': 100}\n",
      "INFO:tensorflow:Calling model_fn.\n",
      "INFO:tensorflow:Done calling model_fn.\n",
      "INFO:tensorflow:Create CheckpointSaverHook.\n",
      "INFO:tensorflow:Graph was finalized.\n",
      "INFO:tensorflow:Running local_init_op.\n",
      "INFO:tensorflow:Done running local_init_op.\n",
      "INFO:tensorflow:Saving checkpoints for 1 into /tmp/tmp5OxhuX/model.ckpt.\n",
      "INFO:tensorflow:loss = 20.955528, step = 1\n",
      "INFO:tensorflow:global_step/sec: 143.43\n",
      "INFO:tensorflow:loss = 2.5133853, step = 101 (0.705 sec)\n",
      "INFO:tensorflow:global_step/sec: 160.65\n",
      "INFO:tensorflow:loss = 1.0143347, step = 201 (0.633 sec)\n",
      "INFO:tensorflow:global_step/sec: 144.164\n",
      "INFO:tensorflow:loss = 3.5668113, step = 301 (0.688 sec)\n",
      "INFO:tensorflow:global_step/sec: 161.701\n",
      "INFO:tensorflow:loss = 3.2481403, step = 401 (0.610 sec)\n",
      "INFO:tensorflow:global_step/sec: 150.33\n",
      "INFO:tensorflow:loss = 1.1446178, step = 501 (0.663 sec)\n",
      "INFO:tensorflow:global_step/sec: 159.006\n",
      "INFO:tensorflow:loss = 0.34729668, step = 601 (0.659 sec)\n",
      "INFO:tensorflow:global_step/sec: 144.081\n",
      "INFO:tensorflow:loss = 0.63053423, step = 701 (0.664 sec)\n",
      "INFO:tensorflow:global_step/sec: 147.066\n",
      "INFO:tensorflow:loss = 1.0536253, step = 801 (0.685 sec)\n",
      "INFO:tensorflow:global_step/sec: 149.963\n",
      "INFO:tensorflow:loss = 0.29345474, step = 901 (0.676 sec)\n",
      "INFO:tensorflow:Saving checkpoints for 1000 into /tmp/tmp5OxhuX/model.ckpt.\n",
      "INFO:tensorflow:Loss for final step: 0.12934297.\n",
      "INFO:tensorflow:Calling model_fn.\n",
      "INFO:tensorflow:Done calling model_fn.\n",
      "INFO:tensorflow:Starting evaluation at 2018-02-28-18:33:09\n",
      "INFO:tensorflow:Graph was finalized.\n",
      "INFO:tensorflow:Restoring parameters from /tmp/tmp5OxhuX/model.ckpt-1000\n",
      "INFO:tensorflow:Running local_init_op.\n",
      "INFO:tensorflow:Done running local_init_op.\n",
      "INFO:tensorflow:Finished evaluation at 2018-02-28-18:33:09\n",
      "INFO:tensorflow:Saving dict for global step 1000: accuracy = 0.9840425, accuracy_baseline = 0.64893615, auc = 0.9965226, auc_precision_recall = 0.9979492, average_loss = 0.04877838, global_step = 1000, label/mean = 0.64893615, loss = 1.310048, prediction/mean = 0.6476633\n"
     ]
    },
    {
     "data": {
      "text/plain": [
       "{'accuracy': 0.9840425,\n",
       " 'accuracy_baseline': 0.64893615,\n",
       " 'auc': 0.9965226,\n",
       " 'auc_precision_recall': 0.9979492,\n",
       " 'average_loss': 0.04877838,\n",
       " 'global_step': 1000,\n",
       " 'label/mean': 0.64893615,\n",
       " 'loss': 1.310048,\n",
       " 'prediction/mean': 0.6476633}"
      ]
     },
     "execution_count": 115,
     "metadata": {
      "tags": []
     },
     "output_type": "execute_result"
    }
   ],
   "source": [
    "X_train, X_test, y_train, y_test = train_test_split(X_data, labels, test_size = 0.33)\n",
    "\n",
    "input_func = tf.estimator.inputs.pandas_input_fn(x = X_train, y = y_train, batch_size = 30, num_epochs = 1000, shuffle = True)\n",
    "\n",
    "dnn_model = tf.estimator.DNNClassifier(hidden_units = [30, 30, 20, 10], \n",
    "                                        feature_columns = feat_cols)\n",
    "\n",
    "dnn_model.train(input_fn = input_func, steps = 1000)\n",
    "\n",
    "eval_input_func = tf.estimator.inputs.pandas_input_fn(x = X_test, y = y_test, batch_size = 30, num_epochs = 1, shuffle = False)\n",
    "\n",
    "dnn_model.evaluate(eval_input_func)"
   ]
  },
  {
   "cell_type": "code",
   "execution_count": 0,
   "metadata": {
    "colab": {
     "autoexec": {
      "startup": false,
      "wait_interval": 0
     }
    },
    "colab_type": "code",
    "id": "2rF4DZYZQUze"
   },
   "outputs": [],
   "source": []
  }
 ],
 "metadata": {
  "colab": {
   "default_view": {},
   "name": "Wisconsin_breast_cancer_TF_DNN.ipynb",
   "provenance": [],
   "version": "0.3.2",
   "views": {}
  },
  "kernelspec": {
   "display_name": "Python 2",
   "language": "python",
   "name": "python2"
  },
  "language_info": {
   "codemirror_mode": {
    "name": "ipython",
    "version": 2
   },
   "file_extension": ".py",
   "mimetype": "text/x-python",
   "name": "python",
   "nbconvert_exporter": "python",
   "pygments_lexer": "ipython2",
   "version": "2.7.13"
  }
 },
 "nbformat": 4,
 "nbformat_minor": 1
}
